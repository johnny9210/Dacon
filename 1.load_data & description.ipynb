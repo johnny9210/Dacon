{
 "cells": [
  {
   "cell_type": "code",
   "execution_count": 1,
   "metadata": {},
   "outputs": [],
   "source": [
    "import pandas as pd\n",
    "import numpy as np\n",
    "pd.set_option( 'display.max_rows' ,  2000 )\n",
    "pd.set_option( 'display.width' ,  200 )\n"
   ]
  },
  {
   "cell_type": "markdown",
   "metadata": {},
   "source": [
    "# Load data"
   ]
  },
  {
   "cell_type": "raw",
   "metadata": {},
   "source": [
    "raw_data = pd.read_csv('data/train.csv')\n",
    "\n",
    "\n",
    "\"\"\"\"\"\"\"\"\"\"\"\"\"\"\"\"\"\"\"\"\"\"\"\"\"\"\"\"\"\"\"\"\"\"\"\"\"\"\"\"\"\"\"\"\"\n",
    "# 38872 개의 게임 데이터의 개별 로그 기록!\n",
    "\n",
    "## 3천개 정도의 데이터 샘플 만들기\n",
    "# 개별 게임의 시간별로 행동 기록\n",
    "\n",
    "# 기본 종족별 승률 찾기\n",
    "# 플레이 타임이 길 수록 승리하는 종족 찾기\n",
    "# 특정 시간에 무었을 했는지? + 얼마나 많은 버튼을 눌렀는지\n",
    "\"\"\"\"\"\"\"\"\"\"\"\"\"\"\"\"\"\"\"\"\"\"\"\"\"\"\"\"\"\"\"\"\"\"\"\"\"\"\"\"\"\"\"\"\"\n",
    "\n",
    "\n",
    "\n",
    "\"\"\"\n",
    "------------------------------------------------\n",
    "<class 'pandas.core.frame.DataFrame'>\n",
    "RangeIndex: 67091776 entries, 0 to 67091775\n",
    "Data columns (total 7 columns):\n",
    "game_id           int64\n",
    "winner            int64\n",
    "time              float64\n",
    "player            int64\n",
    "species           object\n",
    "event             object\n",
    "event_contents    object\n",
    "dtypes: float64(1), int64(3), object(3)\n",
    "memory usage: 3.5+ GB\n",
    "------------------------------------------------\n",
    "\"\"\""
   ]
  },
  {
   "cell_type": "markdown",
   "metadata": {},
   "source": [
    "## sample data 뽑기 \n",
    "    1. 3000 게임 기준\n",
    "    2. 50만개 정도의 로그데이터 추출"
   ]
  },
  {
   "cell_type": "raw",
   "metadata": {},
   "source": [
    "game_list = list(game_info.sample(n = 3000).index)\n",
    "data = raw_data.copy()\n",
    "data.set_index( 'game_id' , inplace = True , drop = True) \n",
    "data= data.loc[game_list]\n",
    "data.to_csv('sample_game.csv')"
   ]
  },
  {
   "cell_type": "markdown",
   "metadata": {},
   "source": [
    "# Data description\n",
    "\n",
    "    샘플데이터만 뽑아서 보기"
   ]
  },
  {
   "cell_type": "code",
   "execution_count": 2,
   "metadata": {},
   "outputs": [
    {
     "name": "stdout",
     "output_type": "stream",
     "text": [
      "<class 'pandas.core.frame.DataFrame'>\n",
      "RangeIndex: 5227978 entries, 0 to 5227977\n",
      "Data columns (total 7 columns):\n",
      "game_id           int64\n",
      "winner            int64\n",
      "time              float64\n",
      "player            int64\n",
      "species           object\n",
      "event             object\n",
      "event_contents    object\n",
      "dtypes: float64(1), int64(3), object(3)\n",
      "memory usage: 279.2+ MB\n"
     ]
    },
    {
     "data": {
      "text/plain": [
       "24328    50\n",
       "14383    52\n",
       "13630    52\n",
       "37967    53\n",
       "10983    55\n",
       "35649    59\n",
       "18906    60\n",
       "7996     60\n",
       "1921     65\n",
       "11198    65\n",
       "Name: game_id, dtype: int64"
      ]
     },
     "execution_count": 2,
     "metadata": {},
     "output_type": "execute_result"
    }
   ],
   "source": [
    "# load_sample_data\n",
    "raw_data = pd.read_csv('sample_game.csv')\n",
    "raw_data.shape \n",
    "raw_data.info()\n",
    "game_info = raw_data['game_id'].value_counts()\n",
    "# 38872 개의 게임 데이터\n",
    "\n",
    "\n",
    "# 4만개의 게임 건수\n",
    "    ## 최대 10분 까지의 로그 데이터\n",
    "    ## 3천개 정도의 데이터 샘플 만들기\n",
    "    \n",
    "# 개별 게임의 시간별로 행동 기록\n",
    "# 기본 종족별 승률 찾기\n",
    "# 플레이 타임이 길 수록 승리하는 종족 찾기\n",
    "# 특정 시간에 무었을 했는지? + 얼마나 많은 버튼을 눌렀는지\n",
    "\n",
    "\n",
    "# 개별 게임당 최대 5천개 가량의 로그데이터\n",
    "raw_data['game_id'].value_counts(ascending = True )[:10]"
   ]
  },
  {
   "cell_type": "markdown",
   "metadata": {},
   "source": [
    "### 한 게임만 골라서 보기 "
   ]
  },
  {
   "cell_type": "markdown",
   "metadata": {},
   "source": [
    "#### 0. 한 게임만 불러오기"
   ]
  },
  {
   "cell_type": "code",
   "execution_count": null,
   "metadata": {},
   "outputs": [],
   "source": [
    "one_game = raw_data[raw_data.game_id == 1921]\n",
    "one_game\n",
    "\n",
    "# 만들어야 할 컬럼 --> 1개의 게임에 대한 플레이어별 행동 (플레이어당 8개의 행동 최대)\n",
    "    ## winner , p1_species , p1_Camera , p1_Selection , p1_Ability , p1_Rclick , p1_setControlGroup , p1_GetControlGroup  ,"
   ]
  },
  {
   "cell_type": "markdown",
   "metadata": {},
   "source": [
    "#### 1.게임별 특성 묶어보기"
   ]
  },
  {
   "cell_type": "code",
   "execution_count": null,
   "metadata": {},
   "outputs": [],
   "source": [
    "# 게임 플레이 시간 뽑기\n",
    "playtime = one_game['time'].values[-1]\n",
    "playtime"
   ]
  },
  {
   "cell_type": "code",
   "execution_count": null,
   "metadata": {},
   "outputs": [],
   "source": [
    "# 플레이어별 종족 뽑기\n",
    "p1_species = one_game.loc[one_game['player'] == 1 , 'species' ].values[0]\n",
    "p0_species = one_game.loc[one_game['player'] == 0 , 'species' ].values[0]\n",
    "\n",
    "p1_species , p0_species"
   ]
  },
  {
   "cell_type": "code",
   "execution_count": null,
   "metadata": {},
   "outputs": [],
   "source": [
    "# 한개의 게임 개별 이벤트 갯수 세기\n",
    "event_counts = one_game.groupby(['player'])['event'].value_counts()\n",
    "event_counts[0].GetControlGroup"
   ]
  },
  {
   "cell_type": "code",
   "execution_count": null,
   "metadata": {},
   "outputs": [],
   "source": [
    "event_list = np.asarray(event_counts)\n",
    "event_list"
   ]
  },
  {
   "cell_type": "code",
   "execution_count": null,
   "metadata": {},
   "outputs": [],
   "source": [
    "# 게임 winner \n",
    "winner = one_game['winner'].values[0]\n",
    "winner "
   ]
  },
  {
   "cell_type": "markdown",
   "metadata": {},
   "source": [
    "#### 2.여러게임 한번씩 봅시다"
   ]
  },
  {
   "cell_type": "code",
   "execution_count": null,
   "metadata": {},
   "outputs": [],
   "source": [
    "def overview_games (raw_data , g_id ):\n",
    "    one_game = raw_data[ raw_data.game_id == g_id  ]\n",
    "\n",
    "    # 게임 플레이 시간 뽑기\n",
    "    playtime = one_game['time'].values[-1]\n",
    "    \n",
    "\n",
    "    # 플레이어별 종족 뽑기\n",
    "    p1_species = one_game.loc[one_game['player'] == 1 , 'species' ].values[0]\n",
    "    p0_species = one_game.loc[one_game['player'] == 0 , 'species' ].values[0]\n",
    "\n",
    "    # 한개의 게임 개별 이벤트 갯수 세기\n",
    "    event_counts = one_game.groupby(['player'])['event'].value_counts()\n",
    "    event_list = np.asarray(event_counts)\n",
    "\n",
    "\n",
    "    # 게임 winner \n",
    "    winner = one_game['winner'].values[0]\n",
    "    \n",
    "    print( f'------------ game_id == {g_id} --------------')\n",
    "    print(\"playtime : \" ,playtime)\n",
    "    print(\"species : \",(p1_species , p0_species))\n",
    "    print(\"winner : \" , winner)\n",
    "    \n",
    "    print(\"event_list : \\n  \", event_list , len(event_list))\n",
    "    print(\"event_counts : \\n\\n   \", event_counts)\n",
    "    print( '\\n\\n\\n')\n",
    "\n",
    "    \n",
    "\n",
    "ididid=[24416,1996,12160,36369,11256,13834,23765,20318,29810,37967,10983,35649,18906,7996 ,1921 ,11198]\n",
    "\n",
    "for i in ididid:\n",
    "    overview_games(raw_data , i)\n"
   ]
  }
 ],
 "metadata": {
  "kernelspec": {
   "display_name": "Python 3",
   "language": "python",
   "name": "python3"
  },
  "language_info": {
   "codemirror_mode": {
    "name": "ipython",
    "version": 3
   },
   "file_extension": ".py",
   "mimetype": "text/x-python",
   "name": "python",
   "nbconvert_exporter": "python",
   "pygments_lexer": "ipython3",
   "version": "3.6.9"
  }
 },
 "nbformat": 4,
 "nbformat_minor": 2
}
