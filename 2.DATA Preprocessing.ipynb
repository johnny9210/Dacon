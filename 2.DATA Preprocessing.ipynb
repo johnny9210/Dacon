{
 "cells": [
  {
   "cell_type": "code",
   "execution_count": 10,
   "metadata": {},
   "outputs": [],
   "source": [
    "import pandas as pd\n",
    "import numpy as np\n",
    "from tqdm import tqdm\n",
    "from tqdm import tqdm_pandas\n",
    "pd.set_option( 'display.max_rows' ,  2000 )\n",
    "pd.set_option( 'display.max_columns' ,  2000 )\n",
    "pd.set_option( 'display.width' ,  200 )"
   ]
  },
  {
   "cell_type": "markdown",
   "metadata": {},
   "source": [
    "## 1. load_data"
   ]
  },
  {
   "cell_type": "code",
   "execution_count": 2,
   "metadata": {},
   "outputs": [],
   "source": [
    "#### 데이터 경로 설정\n",
    "file_path = 'data/test.csv'\n",
    "raw_data = pd.read_csv(file_path)\n"
   ]
  },
  {
   "cell_type": "markdown",
   "metadata": {},
   "source": [
    "# 2.DATA Preprocessing\n",
    "\n",
    "#### 게임별 데이터 프레임 만들기\n",
    "    1.게임별 플레이어 event 컬럼화\n",
    "    2.플레어 간의 event 비율화\n",
    "        rate_action = player1 action / ( player0 action + player1 action )\n",
    "            "
   ]
  },
  {
   "cell_type": "markdown",
   "metadata": {},
   "source": [
    "####  - 게임별 기본 컬럼 생성 함수\n",
    "    game_id, playtime , winner , species , camera , ability , selection , right click , setControlGroup \n",
    "    AddToControlGroup , ControlGroup , rate_action"
   ]
  },
  {
   "cell_type": "code",
   "execution_count": 35,
   "metadata": {},
   "outputs": [],
   "source": [
    "def get_BaseColumn (DATA):\n",
    "    \n",
    "# 기본 dataframe 틀 만들기\n",
    "## game_id , winner , p0_species , p0_Camera , p0_Ability , p0_Selection, p0_Right Click, p0_SetControlGroup,p0_GetControlGroup, p0_AddToControlGroup , p0_ControlGroup\n",
    "\n",
    "    unique_id = DATA['game_id'].unique()\n",
    "    unique_id.sort()\n",
    "\n",
    "    df = {'game_id':[] , 'p0_species' : [] , 'p1_species':[] , 'playtime': []} #'winner':[] ,\n",
    "\n",
    "    events_uni = list(DATA['event'].unique())\n",
    "    p0_events = [ 'p0_' + i  for i in events_uni ]\n",
    "    p1_events = [ 'p1_' + i  for i in events_uni ]\n",
    "    p0_events.extend(p1_events)\n",
    "    t_events = p0_events\n",
    "    t_events\n",
    "\n",
    "    for name in (t_events):\n",
    "        df.update({name:[]})\n",
    "\n",
    "        \n",
    "# 게임별 데이터 insert 하기\n",
    "\n",
    "    for id_ in tqdm(unique_id):\n",
    "        one_game = DATA.loc[DATA.game_id == id_ ]\n",
    "\n",
    "        \n",
    "        # playtime\n",
    "        df['playtime'].append(one_game['time'].values[-1])\n",
    "        # game_id\n",
    "        df['game_id'].append(id_)\n",
    "        # 0플레이어 종족\n",
    "        df['p0_species'].append(one_game.loc[one_game['player'] == 0 , 'species' ].values[0])\n",
    "        # 1플레이어 종족\n",
    "        df['p1_species'].append(one_game.loc[one_game['player'] == 1 , 'species' ].values[0])\n",
    "        # 승리 플레이어\n",
    "       # df['winner'].append(one_game['winner'].values[0])\n",
    "\n",
    "\n",
    "        # 플레이어 이벤트 value_counts\n",
    "        event_counts = one_game.groupby(['player'])['event'].value_counts()\n",
    "        \n",
    "        for i in events_uni: # 0플레이어 이벤트 넣기\n",
    "            try:\n",
    "                df['p0_'+i].append(event_counts[0][i])\n",
    "\n",
    "            except:\n",
    "                df['p0_'+i].append(0)\n",
    "\n",
    "\n",
    "        for i in events_uni: # 1플레이어 이벤트 넣기\n",
    "            try:\n",
    "                df['p1_'+i].append(event_counts[1][i])\n",
    "\n",
    "            except:\n",
    "                df['p1_'+i].append(0)\n",
    "        \n",
    "        print(id_ , end = '\\r')\n",
    "         \n",
    "\n",
    "    df = pd.DataFrame(df)\n",
    "   \n",
    "\n",
    "    for action in events_uni:\n",
    "        try:\n",
    "            df['rate_'+action] = df['p1_'+action ] / (df['p1_'+action ] + df['p0_'+action ])\n",
    "        except:\n",
    "            print('안대여')\n",
    "\n",
    "    df.fillna(0 , inplace = True )\n",
    "    print('BaseColumn_Complete')\n",
    "    return df\n"
   ]
  },
  {
   "cell_type": "markdown",
   "metadata": {},
   "source": [
    "#### - 일꾼 수 구하기"
   ]
  },
  {
   "cell_type": "code",
   "execution_count": 31,
   "metadata": {},
   "outputs": [],
   "source": [
    "def make_worker( train , p ) :\n",
    "    p = int(p)\n",
    "    scv = train.loc[(train['event']=='Ability') & (train['event_contents']=='(1360) - TrainSCV') & (train['player']==p)]\n",
    "    probe = train.loc[(train['event']=='Ability') & (train['event_contents']=='(15E0) - TrainProbe') & (train['player']==p)]\n",
    "    drone = train.loc[(train['event']=='Ability') & (train['event_contents']=='(1820) - MorphDrone') & (train['player']==p)]\n",
    "    print(f'{p}player SCV go sir')\n",
    "    \n",
    "\n",
    "    game_ids = train['game_id'].unique()\n",
    "    game_ids.sort()\n",
    "    train_num=[]\n",
    "    for game_id in game_ids:\n",
    "        a=scv[(scv.game_id==game_id)]\n",
    "        train_num.append(len(a))\n",
    "    train_num\n",
    "    number1 = pd.DataFrame(train_num,columns=['worker_scv'])\n",
    "\n",
    "    game_ids = train['game_id'].unique()\n",
    "    game_ids.sort()\n",
    "    train_num=[]\n",
    "    for game_id in game_ids:\n",
    "        a=probe[probe.game_id==game_id]\n",
    "        train_num.append(len(a))\n",
    "    number2 = pd.DataFrame(train_num,columns=['worker_probe'])\n",
    "    \n",
    "    \n",
    "    game_ids = train['game_id'].unique()\n",
    "    game_ids.sort()\n",
    "    train_num=[]\n",
    "    for game_id in game_ids:\n",
    "        a=drone[drone.game_id==game_id]\n",
    "        train_num.append(len(a))\n",
    "    number3 = pd.DataFrame(train_num,columns=['worker_drone'])\n",
    "\n",
    "    number = pd.concat([number1,number2,number3],axis=1)\n",
    "\n",
    "\n",
    "    number['workers_p'+str(p)] = number[\"worker_scv\"] + number[\"worker_probe\"] + number[\"worker_drone\"]\n",
    "    total = number['workers_p'+str(p)]\n",
    "    \n",
    "    print(f'{p} worker Complete')\n",
    "    return total\n",
    "\n",
    "\n",
    "\n",
    "def get_worker( raw_data ):\n",
    "    p0_worker=make_worker( raw_data , 0 )\n",
    "    p1_worker=make_worker( raw_data , 1 )\n",
    "    \n",
    "    \n",
    "    game_id = raw_data['game_id'].unique()\n",
    "    game_id.sort()\n",
    "\n",
    "    game_id = pd.Series(game_id)\n",
    "    res = pd.concat( [ p0_worker , p1_worker , game_id ] , axis = 1)\n",
    "    res = res.rename( columns = {0: 'game_id'})\n",
    "    \n",
    "    return res"
   ]
  },
  {
   "cell_type": "markdown",
   "metadata": {},
   "source": [
    "#### - 공격횟수 찾기"
   ]
  },
  {
   "cell_type": "code",
   "execution_count": 27,
   "metadata": {},
   "outputs": [],
   "source": [
    "def get_Attack( raw_data ):\n",
    "    abilities=raw_data.loc[raw_data['event'] == 'Ability']\n",
    "    attk=abilities.loc[abilities['event_contents'].str.contains('Attack'),:]\n",
    "\n",
    "    unique_id = raw_data['game_id'].unique()\n",
    "    unique_id.sort()\n",
    "\n",
    "\n",
    "    p0_atk=[]\n",
    "    for i in unique_id :\n",
    "        q2w=len(attk.loc[(attk['game_id']==i)&(attk['player']==0), :])\n",
    "        p0_atk.append(q2w)\n",
    "\n",
    "\n",
    "    p1_atk=[]\n",
    "    for i in unique_id :\n",
    "        q3w=len(attk.loc[(attk['game_id']==i)&(attk['player']==1), :])\n",
    "        p1_atk.append(q3w)    \n",
    "\n",
    "\n",
    "    attks=[]\n",
    "    for i in unique_id:\n",
    "        a=len(attk.loc[attk['game_id']==i])\n",
    "        attks.append(a)\n",
    "    \n",
    "    df = {'p0_attack' : p0_atk , 'p1_attack' : p1_atk , 'total_attack' : attks }\n",
    "    \n",
    "    return pd.DataFrame(df)"
   ]
  },
  {
   "cell_type": "markdown",
   "metadata": {},
   "source": [
    "#### - 데이터 병합하기"
   ]
  },
  {
   "cell_type": "code",
   "execution_count": 38,
   "metadata": {},
   "outputs": [],
   "source": [
    "def get_Game_df( raw_data ): \n",
    "    base_column = get_BaseColumn(raw_data)\n",
    "    worker = get_worker(raw_data)\n",
    "    num_attack = get_Attack( raw_data )\n",
    "    res=pd.concat( [ base_column , worker , num_attack] , axis = 1 )\n",
    "    res.set_index('game_id', inplace=True)\n",
    "    return res"
   ]
  },
  {
   "cell_type": "markdown",
   "metadata": {},
   "source": [
    "### 구해보, 자."
   ]
  },
  {
   "cell_type": "code",
   "execution_count": 34,
   "metadata": {},
   "outputs": [
    {
     "name": "stderr",
     "output_type": "stream",
     "text": [
      "\n",
      "\n",
      "100%|██████████| 16/16 [00:00<?, ?it/s]\n"
     ]
    },
    {
     "name": "stdout",
     "output_type": "stream",
     "text": [
      "BaseColumn_Complete\n",
      "0player SCV go sir\n",
      "0 worker Complete\n",
      "1player SCV go sir\n",
      "1 worker Complete\n"
     ]
    }
   ],
   "source": [
    "df = get_Game_df(raw_data)\n",
    "df.to_csv('preprocessed_data.csv' , index= False , header = True )"
   ]
  },
  {
   "cell_type": "code",
   "execution_count": null,
   "metadata": {},
   "outputs": [],
   "source": []
  }
 ],
 "metadata": {
  "kernelspec": {
   "display_name": "Python 3",
   "language": "python",
   "name": "python3"
  },
  "language_info": {
   "codemirror_mode": {
    "name": "ipython",
    "version": 3
   },
   "file_extension": ".py",
   "mimetype": "text/x-python",
   "name": "python",
   "nbconvert_exporter": "python",
   "pygments_lexer": "ipython3",
   "version": "3.7.4"
  }
 },
 "nbformat": 4,
 "nbformat_minor": 4
}
