{
 "cells": [
  {
   "cell_type": "code",
   "execution_count": 29,
   "metadata": {},
   "outputs": [],
   "source": [
    "from selenium import webdriver \n",
    "url = 'https://www.worldometers.info/coronavirus/'       \n",
    "driver = webdriver.Chrome('./chromedriver.exe')  \n",
    "driver.get(url)     \n",
    "\n",
    "\n",
    "country=[]\n",
    "Total_case=[]\n",
    "New_case=[]\n",
    "Total_death=[]\n",
    "New_death=[]\n",
    "Total_recovered=[]\n",
    "New_recovered=[]\n",
    "Active_case=[]\n",
    "Serious_critical=[]\n",
    "Tot_case=[]\n",
    "Deaths=[]\n",
    "Total_test=[]\n",
    "Test=[]\n",
    "pop=[]\n",
    "for i in range(5,231):\n",
    "    country.append(driver.find_element_by_xpath('//*[@id=\"main_table_countries_today\"]/tbody[1]/tr[{}]/td[2]'.format(i)).text)\n",
    "    Total_case.append(driver.find_element_by_xpath('//*[@id=\"main_table_countries_today\"]/tbody[1]/tr[{}]/td[3]'.format(i)).text)\n",
    "    New_case.append(driver.find_element_by_xpath('//*[@id=\"main_table_countries_today\"]/tbody[1]/tr[{}]/td[4]'.format(i)).text)\n",
    "    Total_death.append(driver.find_element_by_xpath('//*[@id=\"main_table_countries_today\"]/tbody[1]/tr[{}]/td[5]'.format(i)).text)\n",
    "    New_death.append(driver.find_element_by_xpath('//*[@id=\"main_table_countries_today\"]/tbody[1]/tr[{}]/td[6]'.format(i)).text)\n",
    "    Total_recovered.append(driver.find_element_by_xpath('//*[@id=\"main_table_countries_today\"]/tbody[1]/tr[{}]/td[7]'.format(i)).text)\n",
    "    New_recovered.append(driver.find_element_by_xpath('//*[@id=\"main_table_countries_today\"]/tbody[1]/tr[{}]/td[8]'.format(i)).text)\n",
    "    Active_case.append(driver.find_element_by_xpath('//*[@id=\"main_table_countries_today\"]/tbody[1]/tr[{}]/td[9]'.format(i)).text)\n",
    "    Serious_critical.append(driver.find_element_by_xpath('//*[@id=\"main_table_countries_today\"]/tbody[1]/tr[{}]/td[10]'.format(i)).text)\n",
    "    Tot_case.append(driver.find_element_by_xpath('//*[@id=\"main_table_countries_today\"]/tbody[1]/tr[{}]/td[11]'.format(i)).text)\n",
    "    Deaths.append(driver.find_element_by_xpath('//*[@id=\"main_table_countries_today\"]/tbody[1]/tr[{}]/td[12]'.format(i)).text)\n",
    "    Total_test.append(driver.find_element_by_xpath('//*[@id=\"main_table_countries_today\"]/tbody[1]/tr[{}]/td[13]'.format(i)).text)\n",
    "    Test.append(driver.find_element_by_xpath('//*[@id=\"main_table_countries_today\"]/tbody[1]/tr[{}]/td[14]'.format(i)).text)\n",
    "    pop.append(driver.find_element_by_xpath('//*[@id=\"main_table_countries_today\"]/tbody[1]/tr[{}]/td[15]'.format(i)).text)"
   ]
  },
  {
   "cell_type": "code",
   "execution_count": null,
   "metadata": {},
   "outputs": [],
   "source": []
  },
  {
   "cell_type": "code",
   "execution_count": null,
   "metadata": {},
   "outputs": [],
   "source": []
  }
 ],
 "metadata": {
  "kernelspec": {
   "display_name": "Python 3",
   "language": "python",
   "name": "python3"
  },
  "language_info": {
   "codemirror_mode": {
    "name": "ipython",
    "version": 3
   },
   "file_extension": ".py",
   "mimetype": "text/x-python",
   "name": "python",
   "nbconvert_exporter": "python",
   "pygments_lexer": "ipython3",
   "version": "3.8.5"
  }
 },
 "nbformat": 4,
 "nbformat_minor": 4
}
