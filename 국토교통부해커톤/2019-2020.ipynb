{
 "cells": [
  {
   "cell_type": "code",
   "execution_count": 1,
   "metadata": {},
   "outputs": [],
   "source": [
    "import pandas as pd\n",
    "import os\n",
    "import glob\n",
    "import openpyxl\n"
   ]
  },
  {
   "cell_type": "code",
   "execution_count": 47,
   "metadata": {},
   "outputs": [
    {
     "name": "stdout",
     "output_type": "stream",
     "text": [
      "C:\\Users\\vxpko\\202105_lab\\HakerTon\\data\\2019\\201901.csv\n",
      "C:\\Users\\vxpko\\202105_lab\\HakerTon\\data\\2019\\201902.csv\n",
      "C:\\Users\\vxpko\\202105_lab\\HakerTon\\data\\2019\\201903.csv\n",
      "C:\\Users\\vxpko\\202105_lab\\HakerTon\\data\\2019\\201904.csv\n",
      "C:\\Users\\vxpko\\202105_lab\\HakerTon\\data\\2019\\201905.csv\n",
      "C:\\Users\\vxpko\\202105_lab\\HakerTon\\data\\2019\\201906.csv\n",
      "C:\\Users\\vxpko\\202105_lab\\HakerTon\\data\\2019\\201907.csv\n",
      "C:\\Users\\vxpko\\202105_lab\\HakerTon\\data\\2019\\201908.csv\n",
      "C:\\Users\\vxpko\\202105_lab\\HakerTon\\data\\2019\\201909.csv\n",
      "C:\\Users\\vxpko\\202105_lab\\HakerTon\\data\\2019\\201911.csv\n",
      "C:\\Users\\vxpko\\202105_lab\\HakerTon\\data\\2019\\201912.csv\n"
     ]
    },
    {
     "name": "stderr",
     "output_type": "stream",
     "text": [
      "<ipython-input-47-58f9fd16f9f1>:26: SettingWithCopyWarning: \n",
      "A value is trying to be set on a copy of a slice from a DataFrame\n",
      "\n",
      "See the caveats in the documentation: https://pandas.pydata.org/pandas-docs/stable/user_guide/indexing.html#returning-a-view-versus-a-copy\n",
      "  code['행정동코드'][j]=int(str(code['행정동코드'][j])[:8])\n",
      "<ipython-input-47-58f9fd16f9f1>:27: SettingWithCopyWarning: \n",
      "A value is trying to be set on a copy of a slice from a DataFrame\n",
      "\n",
      "See the caveats in the documentation: https://pandas.pydata.org/pandas-docs/stable/user_guide/indexing.html#returning-a-view-versus-a-copy\n",
      "  code['법정동코드'][j]=int(str(code['법정동코드'][j])[:8])\n"
     ]
    },
    {
     "name": "stdout",
     "output_type": "stream",
     "text": [
      "C:\\Users\\vxpko\\202105_lab\\HakerTon\\data\\2020\\202001.csv\n",
      "C:\\Users\\vxpko\\202105_lab\\HakerTon\\data\\2020\\202002.csv\n",
      "C:\\Users\\vxpko\\202105_lab\\HakerTon\\data\\2020\\202003.csv\n",
      "C:\\Users\\vxpko\\202105_lab\\HakerTon\\data\\2020\\202004.csv\n",
      "C:\\Users\\vxpko\\202105_lab\\HakerTon\\data\\2020\\202005.csv\n",
      "C:\\Users\\vxpko\\202105_lab\\HakerTon\\data\\2020\\202006.csv\n",
      "C:\\Users\\vxpko\\202105_lab\\HakerTon\\data\\2020\\202007.csv\n",
      "C:\\Users\\vxpko\\202105_lab\\HakerTon\\data\\2020\\202008.csv\n",
      "C:\\Users\\vxpko\\202105_lab\\HakerTon\\data\\2020\\202009.csv\n",
      "C:\\Users\\vxpko\\202105_lab\\HakerTon\\data\\2020\\202011.csv\n",
      "C:\\Users\\vxpko\\202105_lab\\HakerTon\\data\\2020\\202012.csv\n"
     ]
    }
   ],
   "source": [
    "for i in [2019,2020]:\n",
    "    input_file = r'C:\\Users\\vxpko\\202105_lab\\HakerTon\\data\\{}'.format(i)\n",
    "    output_file = r'C:\\Users\\vxpko\\202105_lab\\HakerTon\\data\\{}_dong.csv'.format(i)\n",
    "    \n",
    "    allFile_list = glob.glob(os.path.join(input_file, '*.csv'))\n",
    "\n",
    "    allData = [] \n",
    "    for file in allFile_list:\n",
    "        try:\n",
    "            df = pd.read_csv(file,encoding='utf-8',index_col=False) \n",
    "            print(file)\n",
    "            df=pd.DataFrame(df)        \n",
    "            allData.append(df) \n",
    "        except:\n",
    "            df = pd.read_csv(file,encoding='euc-kr',index_col=False) \n",
    "            print(file)\n",
    "            df=pd.DataFrame(df)        \n",
    "            allData.append(df) \n",
    "    dataCombine = pd.concat(allData, axis=0)\n",
    "    dataCombine=dataCombine.iloc[:,[0,1,2,3,6,7,8,9,10,20,21,22,23,24]]\n",
    "    dataCombine=dataCombine.astype('int')\n",
    "    \n",
    "    code=pd.read_excel('./code.xlsx', engine='openpyxl')\n",
    "    code=code[code['시도명']=='서울특별시'].iloc[:,:6]\n",
    "    for j in range(769):\n",
    "        code['행정동코드'][j]=int(str(code['행정동코드'][j])[:8])\n",
    "        code['법정동코드'][j]=int(str(code['법정동코드'][j])[:8])\n",
    "    total=pd.merge(dataCombine,code,on='행정동코드')\n",
    "    total['10대_남']=total.iloc[:,4]\n",
    "    total['20대_남']=total.iloc[:,5]+total.iloc[:,6]\n",
    "    total['30대_남']=total.iloc[:,7]+total.iloc[:,8]\n",
    "    total['10대_합']=total.iloc[:,4]+total.iloc[:,9]\n",
    "    total['20대_합']=total.iloc[:,5]+total.iloc[:,6]+total.iloc[:,10]+total.iloc[:,11]\n",
    "    total['30대_합']=total.iloc[:,7]+total.iloc[:,8]+total.iloc[:,12]+total.iloc[:,13]\n",
    "    total['10_30남']=total.iloc[:,4]+total.iloc[:,5]+total.iloc[:,6]+total.iloc[:,7]+total.iloc[:,8]\n",
    "    total['10_30합']=total.iloc[:,4]+total.iloc[:,5]+total.iloc[:,6]+total.iloc[:,7]+total.iloc[:,8]+total.iloc[:,9]+total.iloc[:,10]+total.iloc[:,11]+total.iloc[:,12]+total.iloc[:,13]\n",
    "    \n",
    "    total.drop(total.iloc[:,4:14],axis=1,inplace=True)\n",
    "    total.to_csv('./data/{}_dong.csv'.format(i),index=False)\n"
   ]
  },
  {
   "cell_type": "code",
   "execution_count": null,
   "metadata": {},
   "outputs": [],
   "source": []
  }
 ],
 "metadata": {
  "kernelspec": {
   "display_name": "Python 3",
   "language": "python",
   "name": "python3"
  },
  "language_info": {
   "codemirror_mode": {
    "name": "ipython",
    "version": 3
   },
   "file_extension": ".py",
   "mimetype": "text/x-python",
   "name": "python",
   "nbconvert_exporter": "python",
   "pygments_lexer": "ipython3",
   "version": "3.8.5"
  }
 },
 "nbformat": 4,
 "nbformat_minor": 4
}
