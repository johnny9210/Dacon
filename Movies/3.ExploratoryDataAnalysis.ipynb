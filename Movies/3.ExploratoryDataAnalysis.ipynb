{
 "cells": [
  {
   "cell_type": "markdown",
   "metadata": {
    "colab_type": "text",
    "id": "r335573SiFtp"
   },
   "source": [
    "## 탐색적 데이터 분석\n",
    "    1. 종족 카테고리화 ( 필요 한가?? )\n",
    "    2. controlgroup 묶기\n",
    "    3. 특정 컬럼 비율화 \n",
    "        - controlgroup\n",
    "        - attack\n",
    "        - worker"
   ]
  },
  {
   "cell_type": "markdown",
   "metadata": {
    "colab_type": "text",
    "id": "z39q70yLiFtr"
   },
   "source": [
    "### 0. 데이터 description"
   ]
  },
  {
   "cell_type": "code",
   "execution_count": 0,
   "metadata": {
    "colab": {},
    "colab_type": "code",
    "id": "XSGmCHimiFts"
   },
   "outputs": [],
   "source": [
    "import pandas as pd \n",
    "pd.set_option( 'display.max_rows' , 2000)\n",
    "pd.set_option( 'display.max_columns' , 200)\n",
    "\n",
    "data = pd.read_csv('data/preprocessed/0313_pre.csv' , index_col = 'game_id')\n",
    "data.columns , data.describe()"
   ]
  },
  {
   "cell_type": "markdown",
   "metadata": {
    "colab_type": "text",
    "id": "t0DBp-rniFtw"
   },
   "source": [
    "### 1. 종족 수치화\n",
    "\n",
    "    T --> 0 , Z --> 1 , P --> 2"
   ]
  },
  {
   "cell_type": "code",
   "execution_count": 0,
   "metadata": {
    "colab": {},
    "colab_type": "code",
    "id": "5SH7TZNfiFtx"
   },
   "outputs": [],
   "source": [
    "def species_to_number (value):\n",
    "    if value == 'T':\n",
    "        return 0\n",
    "    elif value == 'Z':\n",
    "        return 1\n",
    "    elif value == 'P':\n",
    "        return 2\n",
    "data['p0_species'] = data['p0_species'].apply(species_to_number)\n",
    "data['p1_species'] = data['p1_species'].apply(species_to_number)"
   ]
  },
  {
   "cell_type": "markdown",
   "metadata": {
    "colab_type": "text",
    "id": "Y7yDP8dRiFt0"
   },
   "source": [
    "### 2. controlgroup 합치기 \n",
    "    \n",
    "    - 모두 합치기\n",
    "    - 비율 뽑기"
   ]
  },
  {
   "cell_type": "code",
   "execution_count": 0,
   "metadata": {
    "colab": {},
    "colab_type": "code",
    "id": "iFJ5UVtIiFt1"
   },
   "outputs": [],
   "source": [
    "# 모두 합치기 , 비율뽑기 (control group action )\n",
    "\n",
    "player = ['p0_' , 'p1_']\n",
    "for p in player:\n",
    "    data[p+'ControlGroup_action'] =  data[p+'SetControlGroup'] + data[p+'GetControlGroup'] + data[p+'AddToControlGroup']+ data[p+'ControlGroup']\n"
   ]
  },
  {
   "cell_type": "markdown",
   "metadata": {
    "colab_type": "text",
    "id": "DXkDBFBdiFt3"
   },
   "source": [
    "### 3. 특정 컬럼 비율화\n",
    "    - controlGroup\n",
    "    - attack \n",
    "    - worker"
   ]
  },
  {
   "cell_type": "code",
   "execution_count": 0,
   "metadata": {
    "colab": {},
    "colab_type": "code",
    "id": "RaCB6VfPiFt4"
   },
   "outputs": [],
   "source": [
    "# ControlGroup 비율화 \n",
    "data['rate_ControlGroup'] = data['p1_ControlGroup_action'] / (data['p0_ControlGroup_action'] + data['p1_ControlGroup_action'])\n",
    "# attack 비율화\n",
    "data['rate_attack'] = data['p1_attack'] / ( data['p1_attack'] + data['p0_attack'])\n",
    "# worker 비율화 \n",
    "data['rate_worker'] = data['workers_p1'] / ( data['workers_p1'] + data['workers_p0'])"
   ]
  },
  {
   "cell_type": "markdown",
   "metadata": {
    "colab_type": "text",
    "id": "b0y-Var0iFt7"
   },
   "source": [
    "### 4. 상관관계 , 컬럼 selection"
   ]
  },
  {
   "cell_type": "code",
   "execution_count": 0,
   "metadata": {
    "colab": {},
    "colab_type": "code",
    "id": "1OG3pjjWiFt8",
    "outputId": "667efc28-42c0-4a53-dcdf-6c6221dfb853"
   },
   "outputs": [
    {
     "data": {
      "text/plain": [
       "total_attack              0.002201\n",
       "p1_ControlGroup           0.003303\n",
       "p0_species                0.004561\n",
       "p1_species                0.004585\n",
       "playtime                  0.004650\n",
       "p1_Camera                 0.007286\n",
       "rate_Camera               0.007579\n",
       "p0_Camera                 0.009406\n",
       "p0_ControlGroup           0.009969\n",
       "p1_AddToControlGroup      0.032163\n",
       "p0_Right Click            0.032989\n",
       "p0_AddToControlGroup      0.033050\n",
       "p1_Selection              0.040425\n",
       "p0_Selection              0.040724\n",
       "rate_AddToControlGroup    0.040801\n",
       "p1_Right Click            0.041839\n",
       "p1_attack                 0.044019\n",
       "p0_SetControlGroup        0.049926\n",
       "p1_SetControlGroup        0.051379\n",
       "p1_GetControlGroup        0.054063\n",
       "p1_ControlGroup_action    0.055011\n",
       "p0_Ability                0.059533\n",
       "p1_Ability                0.060784\n",
       "p0_GetControlGroup        0.068521\n",
       "p0_ControlGroup_action    0.069302\n",
       "workers_p0                0.076637\n",
       "workers_p1                0.079426\n",
       "rate_SetControlGroup      0.079886\n",
       "rate_Selection            0.093696\n",
       "rate_Right Click          0.096837\n",
       "rate_GetControlGroup      0.145908\n",
       "rate_ControlGroup         0.153049\n",
       "rate_worker               0.155549\n",
       "rate_Ability              0.201047\n",
       "winner                    1.000000\n",
       "Name: winner, dtype: float64"
      ]
     },
     "execution_count": 5,
     "metadata": {
      "tags": []
     },
     "output_type": "execute_result"
    }
   ],
   "source": [
    "abs(data.corr()['winner']).sort_values()"
   ]
  },
  {
   "cell_type": "code",
   "execution_count": 0,
   "metadata": {
    "colab": {},
    "colab_type": "code",
    "id": "EZ5xPiOuiFt_",
    "outputId": "79d217ba-c58a-4f0e-b395-1120e4a41bee"
   },
   "outputs": [
    {
     "data": {
      "text/plain": [
       "(38872, 19)"
      ]
     },
     "execution_count": 7,
     "metadata": {
      "tags": []
     },
     "output_type": "execute_result"
    }
   ],
   "source": [
    "selected_columns = ['winner', 'p0_species', 'p1_species', 'playtime', 'rate_Camera', 'rate_Selection', 'rate_Ability',\n",
    "       'rate_Right Click', 'rate_SetControlGroup', 'rate_GetControlGroup',\n",
    "       'rate_AddToControlGroup', 'rate_ControlGroup', 'workers_p0',\n",
    "       'workers_p1', 'p1_attack', 'total_attack', 'p0_ControlGroup_action',\n",
    "       'p1_ControlGroup_action', 'rate_worker']\n",
    "\n",
    "data_selected = data[selected_columns]\n",
    "data_selected.shape"
   ]
  },
  {
   "cell_type": "code",
   "execution_count": 0,
   "metadata": {
    "colab": {},
    "colab_type": "code",
    "id": "E6SjD-EpiFuB"
   },
   "outputs": [],
   "source": [
    "data_selected"
   ]
  },
  {
   "cell_type": "code",
   "execution_count": 0,
   "metadata": {
    "colab": {},
    "colab_type": "code",
    "id": "2c39gb5fiFuE"
   },
   "outputs": [],
   "source": [
    "data_selected.to_csv('train_data_0313.csv')"
   ]
  }
 ],
 "metadata": {
  "colab": {
   "collapsed_sections": [],
   "name": "3.ExploratoryDataAnalysis.ipynb",
   "provenance": []
  },
  "kernelspec": {
   "display_name": "Python 3",
   "language": "python",
   "name": "python3"
  },
  "language_info": {
   "codemirror_mode": {
    "name": "ipython",
    "version": 3
   },
   "file_extension": ".py",
   "mimetype": "text/x-python",
   "name": "python",
   "nbconvert_exporter": "python",
   "pygments_lexer": "ipython3",
   "version": "3.7.4"
  }
 },
 "nbformat": 4,
 "nbformat_minor": 1
}
